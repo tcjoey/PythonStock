{
  "nbformat": 4,
  "nbformat_minor": 0,
  "metadata": {
    "colab": {
      "name": "每日即時股價.ipynb",
      "provenance": [],
      "authorship_tag": "ABX9TyObmf83L9/wYVBXyBFmQwng",
      "include_colab_link": true
    },
    "kernelspec": {
      "name": "python3",
      "display_name": "Python 3"
    }
  },
  "cells": [
    {
      "cell_type": "markdown",
      "metadata": {
        "id": "view-in-github",
        "colab_type": "text"
      },
      "source": [
        "<a href=\"https://colab.research.google.com/github/tcjoey/PythonStock/blob/master/%E6%AF%8F%E6%97%A5%E5%8D%B3%E6%99%82%E8%82%A1%E5%83%B9.ipynb\" target=\"_parent\"><img src=\"https://colab.research.google.com/assets/colab-badge.svg\" alt=\"Open In Colab\"/></a>"
      ]
    },
    {
      "cell_type": "markdown",
      "metadata": {
        "id": "S5ZYHaHsnmWv"
      },
      "source": [
        "今天的爬蟲我們就從證券交易所提供的基本市況報導網站下手\n",
        "\n",
        "程式碼：\n",
        "將上述程式碼拆成三個步驟：\n",
        "1. 爬取目標網站，包裝成函式方便重複呼叫\n",
        "2. 啟動定時器，定時觸發爬蟲取得最新股價資訊\n",
        "3. 美化表格\n",
        "\n",
        "From <https://medium.com/renee0918/python%E7%88%AC%E8%9F%B2-%E6%AF%8F%E6%97%A5%E5%8D%B3%E6%99%82%E8%82%A1%E5%83%B9-1382bc4d38d3> \n"
      ]
    },
    {
      "cell_type": "code",
      "metadata": {
        "id": "7gkVbKbtln0c"
      },
      "source": [
        "from IPython.display import display, clear_output\n",
        "from urllib.request import urlopen\n",
        "import pandas as pd\n",
        "import datetime\n",
        "import requests\n",
        "import sched\n",
        "import time\n",
        "import json\n",
        "s = sched.scheduler(time.time, time.sleep)"
      ],
      "execution_count": 1,
      "outputs": []
    },
    {
      "cell_type": "code",
      "metadata": {
        "id": "-GRm-QlSmIAg"
      },
      "source": [
        "def tableColor(val):\n",
        "    if val > 0:\n",
        "        color = 'red'\n",
        "    elif val < 0:\n",
        "        color = 'green'\n",
        "    else:\n",
        "        color = 'white'\n",
        "    return 'color: %s' % color\n"
      ],
      "execution_count": 2,
      "outputs": []
    },
    {
      "cell_type": "code",
      "metadata": {
        "id": "Ow66QJyym1ge"
      },
      "source": [
        "def stock_crawler(targets):\n",
        "    \n",
        "    clear_output(wait=True)\n",
        "    \n",
        "    # 組成stock_list\n",
        "    stock_list = '|'.join('tse_{}.tw'.format(target) for target in targets) \n",
        "    \n",
        "    #　query data\n",
        "    query_url = \"http://mis.twse.com.tw/stock/api/getStockInfo.jsp?ex_ch=\"+ stock_list\n",
        "    data = json.loads(urlopen(query_url).read())\n",
        "# 過濾出有用到的欄位\n",
        "    columns = ['c','n','z','tv','v','o','h','l','y']\n",
        "    df = pd.DataFrame(data['msgArray'], columns=columns)\n",
        "    df.columns = ['股票代號','公司簡稱','當盤成交價','當盤成交量','累積成交量','開盤價','最高價','最低價','昨收價']\n",
        "    df.insert(9, \"漲跌百分比\", 0.0) \n",
        "    \n",
        "    # 新增漲跌百分比\n",
        "    for x in range(len(df.index)):\n",
        "        if df['當盤成交價'].iloc[x] != '-':\n",
        "            df.iloc[x, [2,3,4,5,6,7,8]] = df.iloc[x, [2,3,4,5,6,7,8]].astype(float)\n",
        "            df['漲跌百分比'].iloc[x] = (df['當盤成交價'].iloc[x] - df['昨收價'].iloc[x])/df['昨收價'].iloc[x] * 100\n",
        "    \n",
        "    # 紀錄更新時間\n",
        "    time = datetime.datetime.now()  \n",
        "    print(\"更新時間:\" + str(time.hour)+\":\"+str(time.minute))\n",
        "    \n",
        "    # show table\n",
        "    df = df.style.applymap(tableColor, subset=['漲跌百分比'])\n",
        "    display(df)\n",
        "    \n",
        "    start_time = datetime.datetime.strptime(str(time.date())+'9:30', '%Y-%m-%d%H:%M')\n",
        "    end_time =  datetime.datetime.strptime(str(time.date())+'13:30', '%Y-%m-%d%H:%M')\n",
        "    \n",
        "    # 判斷爬蟲終止條件\n",
        "    if time >= start_time and time <= end_time:\n",
        "        s.enter(1, 0, stock_crawler, argument=(targets,))\n"
      ],
      "execution_count": 3,
      "outputs": []
    },
    {
      "cell_type": "code",
      "metadata": {
        "colab": {
          "base_uri": "https://localhost:8080/",
          "height": 227
        },
        "id": "NSdK8j5ym4Q_",
        "outputId": "cf2f4e18-7b56-420e-9efa-b56552374cd9"
      },
      "source": [
        "# 欲爬取的股票代碼\n",
        "stock_list = ['1101','1102','1103','2330']\n",
        "# 每秒定時器\n",
        "s.enter(1, 0, stock_crawler, argument=(stock_list,))\n",
        "s.run()"
      ],
      "execution_count": 4,
      "outputs": [
        {
          "output_type": "stream",
          "text": [
            "更新時間:14:57\n"
          ],
          "name": "stdout"
        },
        {
          "output_type": "stream",
          "text": [
            "/usr/local/lib/python3.6/dist-packages/pandas/core/indexing.py:670: SettingWithCopyWarning: \n",
            "A value is trying to be set on a copy of a slice from a DataFrame\n",
            "\n",
            "See the caveats in the documentation: https://pandas.pydata.org/pandas-docs/stable/user_guide/indexing.html#returning-a-view-versus-a-copy\n",
            "  iloc._setitem_with_indexer(indexer, value)\n"
          ],
          "name": "stderr"
        },
        {
          "output_type": "display_data",
          "data": {
            "text/html": [
              "<style  type=\"text/css\" >\n",
              "#T_355d1fec_2d9c_11eb_be02_0242ac1c0002row0_col9,#T_355d1fec_2d9c_11eb_be02_0242ac1c0002row1_col9,#T_355d1fec_2d9c_11eb_be02_0242ac1c0002row2_col9,#T_355d1fec_2d9c_11eb_be02_0242ac1c0002row3_col9{\n",
              "            color:  red;\n",
              "        }</style><table id=\"T_355d1fec_2d9c_11eb_be02_0242ac1c0002\" ><thead>    <tr>        <th class=\"blank level0\" ></th>        <th class=\"col_heading level0 col0\" >股票代號</th>        <th class=\"col_heading level0 col1\" >公司簡稱</th>        <th class=\"col_heading level0 col2\" >當盤成交價</th>        <th class=\"col_heading level0 col3\" >當盤成交量</th>        <th class=\"col_heading level0 col4\" >累積成交量</th>        <th class=\"col_heading level0 col5\" >開盤價</th>        <th class=\"col_heading level0 col6\" >最高價</th>        <th class=\"col_heading level0 col7\" >最低價</th>        <th class=\"col_heading level0 col8\" >昨收價</th>        <th class=\"col_heading level0 col9\" >漲跌百分比</th>    </tr></thead><tbody>\n",
              "                <tr>\n",
              "                        <th id=\"T_355d1fec_2d9c_11eb_be02_0242ac1c0002level0_row0\" class=\"row_heading level0 row0\" >0</th>\n",
              "                        <td id=\"T_355d1fec_2d9c_11eb_be02_0242ac1c0002row0_col0\" class=\"data row0 col0\" >1101</td>\n",
              "                        <td id=\"T_355d1fec_2d9c_11eb_be02_0242ac1c0002row0_col1\" class=\"data row0 col1\" >台泥</td>\n",
              "                        <td id=\"T_355d1fec_2d9c_11eb_be02_0242ac1c0002row0_col2\" class=\"data row0 col2\" >43.000000</td>\n",
              "                        <td id=\"T_355d1fec_2d9c_11eb_be02_0242ac1c0002row0_col3\" class=\"data row0 col3\" >1725.000000</td>\n",
              "                        <td id=\"T_355d1fec_2d9c_11eb_be02_0242ac1c0002row0_col4\" class=\"data row0 col4\" >15772.000000</td>\n",
              "                        <td id=\"T_355d1fec_2d9c_11eb_be02_0242ac1c0002row0_col5\" class=\"data row0 col5\" >42.900000</td>\n",
              "                        <td id=\"T_355d1fec_2d9c_11eb_be02_0242ac1c0002row0_col6\" class=\"data row0 col6\" >43.050000</td>\n",
              "                        <td id=\"T_355d1fec_2d9c_11eb_be02_0242ac1c0002row0_col7\" class=\"data row0 col7\" >42.700000</td>\n",
              "                        <td id=\"T_355d1fec_2d9c_11eb_be02_0242ac1c0002row0_col8\" class=\"data row0 col8\" >42.700000</td>\n",
              "                        <td id=\"T_355d1fec_2d9c_11eb_be02_0242ac1c0002row0_col9\" class=\"data row0 col9\" >0.702576</td>\n",
              "            </tr>\n",
              "            <tr>\n",
              "                        <th id=\"T_355d1fec_2d9c_11eb_be02_0242ac1c0002level0_row1\" class=\"row_heading level0 row1\" >1</th>\n",
              "                        <td id=\"T_355d1fec_2d9c_11eb_be02_0242ac1c0002row1_col0\" class=\"data row1 col0\" >1102</td>\n",
              "                        <td id=\"T_355d1fec_2d9c_11eb_be02_0242ac1c0002row1_col1\" class=\"data row1 col1\" >亞泥</td>\n",
              "                        <td id=\"T_355d1fec_2d9c_11eb_be02_0242ac1c0002row1_col2\" class=\"data row1 col2\" >44.150000</td>\n",
              "                        <td id=\"T_355d1fec_2d9c_11eb_be02_0242ac1c0002row1_col3\" class=\"data row1 col3\" >700.000000</td>\n",
              "                        <td id=\"T_355d1fec_2d9c_11eb_be02_0242ac1c0002row1_col4\" class=\"data row1 col4\" >3445.000000</td>\n",
              "                        <td id=\"T_355d1fec_2d9c_11eb_be02_0242ac1c0002row1_col5\" class=\"data row1 col5\" >44.100000</td>\n",
              "                        <td id=\"T_355d1fec_2d9c_11eb_be02_0242ac1c0002row1_col6\" class=\"data row1 col6\" >44.450000</td>\n",
              "                        <td id=\"T_355d1fec_2d9c_11eb_be02_0242ac1c0002row1_col7\" class=\"data row1 col7\" >44.000000</td>\n",
              "                        <td id=\"T_355d1fec_2d9c_11eb_be02_0242ac1c0002row1_col8\" class=\"data row1 col8\" >44.100000</td>\n",
              "                        <td id=\"T_355d1fec_2d9c_11eb_be02_0242ac1c0002row1_col9\" class=\"data row1 col9\" >0.113379</td>\n",
              "            </tr>\n",
              "            <tr>\n",
              "                        <th id=\"T_355d1fec_2d9c_11eb_be02_0242ac1c0002level0_row2\" class=\"row_heading level0 row2\" >2</th>\n",
              "                        <td id=\"T_355d1fec_2d9c_11eb_be02_0242ac1c0002row2_col0\" class=\"data row2 col0\" >1103</td>\n",
              "                        <td id=\"T_355d1fec_2d9c_11eb_be02_0242ac1c0002row2_col1\" class=\"data row2 col1\" >嘉泥</td>\n",
              "                        <td id=\"T_355d1fec_2d9c_11eb_be02_0242ac1c0002row2_col2\" class=\"data row2 col2\" >17.600000</td>\n",
              "                        <td id=\"T_355d1fec_2d9c_11eb_be02_0242ac1c0002row2_col3\" class=\"data row2 col3\" >15.000000</td>\n",
              "                        <td id=\"T_355d1fec_2d9c_11eb_be02_0242ac1c0002row2_col4\" class=\"data row2 col4\" >849.000000</td>\n",
              "                        <td id=\"T_355d1fec_2d9c_11eb_be02_0242ac1c0002row2_col5\" class=\"data row2 col5\" >17.600000</td>\n",
              "                        <td id=\"T_355d1fec_2d9c_11eb_be02_0242ac1c0002row2_col6\" class=\"data row2 col6\" >17.650000</td>\n",
              "                        <td id=\"T_355d1fec_2d9c_11eb_be02_0242ac1c0002row2_col7\" class=\"data row2 col7\" >17.400000</td>\n",
              "                        <td id=\"T_355d1fec_2d9c_11eb_be02_0242ac1c0002row2_col8\" class=\"data row2 col8\" >17.500000</td>\n",
              "                        <td id=\"T_355d1fec_2d9c_11eb_be02_0242ac1c0002row2_col9\" class=\"data row2 col9\" >0.571429</td>\n",
              "            </tr>\n",
              "            <tr>\n",
              "                        <th id=\"T_355d1fec_2d9c_11eb_be02_0242ac1c0002level0_row3\" class=\"row_heading level0 row3\" >3</th>\n",
              "                        <td id=\"T_355d1fec_2d9c_11eb_be02_0242ac1c0002row3_col0\" class=\"data row3 col0\" >2330</td>\n",
              "                        <td id=\"T_355d1fec_2d9c_11eb_be02_0242ac1c0002row3_col1\" class=\"data row3 col1\" >台積電</td>\n",
              "                        <td id=\"T_355d1fec_2d9c_11eb_be02_0242ac1c0002row3_col2\" class=\"data row3 col2\" >496.500000</td>\n",
              "                        <td id=\"T_355d1fec_2d9c_11eb_be02_0242ac1c0002row3_col3\" class=\"data row3 col3\" >5942.000000</td>\n",
              "                        <td id=\"T_355d1fec_2d9c_11eb_be02_0242ac1c0002row3_col4\" class=\"data row3 col4\" >37877.000000</td>\n",
              "                        <td id=\"T_355d1fec_2d9c_11eb_be02_0242ac1c0002row3_col5\" class=\"data row3 col5\" >494.500000</td>\n",
              "                        <td id=\"T_355d1fec_2d9c_11eb_be02_0242ac1c0002row3_col6\" class=\"data row3 col6\" >498.500000</td>\n",
              "                        <td id=\"T_355d1fec_2d9c_11eb_be02_0242ac1c0002row3_col7\" class=\"data row3 col7\" >492.000000</td>\n",
              "                        <td id=\"T_355d1fec_2d9c_11eb_be02_0242ac1c0002row3_col8\" class=\"data row3 col8\" >488.000000</td>\n",
              "                        <td id=\"T_355d1fec_2d9c_11eb_be02_0242ac1c0002row3_col9\" class=\"data row3 col9\" >1.741803</td>\n",
              "            </tr>\n",
              "    </tbody></table>"
            ],
            "text/plain": [
              "<pandas.io.formats.style.Styler at 0x7f1fe6e1e048>"
            ]
          },
          "metadata": {
            "tags": []
          }
        }
      ]
    }
  ]
}